{
  "nbformat": 4,
  "nbformat_minor": 0,
  "metadata": {
    "colab": {
      "provenance": [],
      "authorship_tag": "ABX9TyOlp9aARCbLO1CHnzaKcP1W",
      "include_colab_link": true
    },
    "kernelspec": {
      "name": "python3",
      "display_name": "Python 3"
    },
    "language_info": {
      "name": "python"
    }
  },
  "cells": [
    {
      "cell_type": "markdown",
      "metadata": {
        "id": "view-in-github",
        "colab_type": "text"
      },
      "source": [
        "<a href=\"https://colab.research.google.com/github/CRAFTYPROGRAMMER826/IITGN-SRIP2025-IP0NB0000020/blob/main/logistic_regression.ipynb\" target=\"_parent\"><img src=\"https://colab.research.google.com/assets/colab-badge.svg\" alt=\"Open In Colab\"/></a>"
      ]
    },
    {
      "cell_type": "code",
      "execution_count": 2,
      "metadata": {
        "colab": {
          "base_uri": "https://localhost:8080/"
        },
        "id": "AbKsry_8_SIP",
        "outputId": "6ef42a59-12b0-4850-9061-cea95f2b34f3"
      },
      "outputs": [
        {
          "output_type": "stream",
          "name": "stdout",
          "text": [
            "Collecting tsfel\n",
            "  Downloading tsfel-0.1.9-py3-none-any.whl.metadata (9.3 kB)\n",
            "Requirement already satisfied: ipython>=7.4.0 in /usr/local/lib/python3.11/dist-packages (from tsfel) (7.34.0)\n",
            "Requirement already satisfied: numpy>=1.18.5 in /usr/local/lib/python3.11/dist-packages (from tsfel) (1.26.4)\n",
            "Requirement already satisfied: pandas>=1.5.3 in /usr/local/lib/python3.11/dist-packages (from tsfel) (2.2.2)\n",
            "Collecting PyWavelets>=1.4.1 (from tsfel)\n",
            "  Downloading pywavelets-1.8.0-cp311-cp311-manylinux_2_17_x86_64.manylinux2014_x86_64.whl.metadata (9.0 kB)\n",
            "Requirement already satisfied: requests>=2.31.0 in /usr/local/lib/python3.11/dist-packages (from tsfel) (2.32.3)\n",
            "Requirement already satisfied: scikit-learn>=0.21.3 in /usr/local/lib/python3.11/dist-packages (from tsfel) (1.6.1)\n",
            "Requirement already satisfied: scipy>=1.7.3 in /usr/local/lib/python3.11/dist-packages (from tsfel) (1.13.1)\n",
            "Requirement already satisfied: setuptools>=47.1.1 in /usr/local/lib/python3.11/dist-packages (from tsfel) (75.1.0)\n",
            "Requirement already satisfied: statsmodels>=0.12.0 in /usr/local/lib/python3.11/dist-packages (from tsfel) (0.14.4)\n",
            "Collecting jedi>=0.16 (from ipython>=7.4.0->tsfel)\n",
            "  Downloading jedi-0.19.2-py2.py3-none-any.whl.metadata (22 kB)\n",
            "Requirement already satisfied: decorator in /usr/local/lib/python3.11/dist-packages (from ipython>=7.4.0->tsfel) (4.4.2)\n",
            "Requirement already satisfied: pickleshare in /usr/local/lib/python3.11/dist-packages (from ipython>=7.4.0->tsfel) (0.7.5)\n",
            "Requirement already satisfied: traitlets>=4.2 in /usr/local/lib/python3.11/dist-packages (from ipython>=7.4.0->tsfel) (5.7.1)\n",
            "Requirement already satisfied: prompt-toolkit!=3.0.0,!=3.0.1,<3.1.0,>=2.0.0 in /usr/local/lib/python3.11/dist-packages (from ipython>=7.4.0->tsfel) (3.0.50)\n",
            "Requirement already satisfied: pygments in /usr/local/lib/python3.11/dist-packages (from ipython>=7.4.0->tsfel) (2.18.0)\n",
            "Requirement already satisfied: backcall in /usr/local/lib/python3.11/dist-packages (from ipython>=7.4.0->tsfel) (0.2.0)\n",
            "Requirement already satisfied: matplotlib-inline in /usr/local/lib/python3.11/dist-packages (from ipython>=7.4.0->tsfel) (0.1.7)\n",
            "Requirement already satisfied: pexpect>4.3 in /usr/local/lib/python3.11/dist-packages (from ipython>=7.4.0->tsfel) (4.9.0)\n",
            "Requirement already satisfied: python-dateutil>=2.8.2 in /usr/local/lib/python3.11/dist-packages (from pandas>=1.5.3->tsfel) (2.8.2)\n",
            "Requirement already satisfied: pytz>=2020.1 in /usr/local/lib/python3.11/dist-packages (from pandas>=1.5.3->tsfel) (2025.1)\n",
            "Requirement already satisfied: tzdata>=2022.7 in /usr/local/lib/python3.11/dist-packages (from pandas>=1.5.3->tsfel) (2025.1)\n",
            "Requirement already satisfied: charset-normalizer<4,>=2 in /usr/local/lib/python3.11/dist-packages (from requests>=2.31.0->tsfel) (3.4.1)\n",
            "Requirement already satisfied: idna<4,>=2.5 in /usr/local/lib/python3.11/dist-packages (from requests>=2.31.0->tsfel) (3.10)\n",
            "Requirement already satisfied: urllib3<3,>=1.21.1 in /usr/local/lib/python3.11/dist-packages (from requests>=2.31.0->tsfel) (2.3.0)\n",
            "Requirement already satisfied: certifi>=2017.4.17 in /usr/local/lib/python3.11/dist-packages (from requests>=2.31.0->tsfel) (2025.1.31)\n",
            "Requirement already satisfied: joblib>=1.2.0 in /usr/local/lib/python3.11/dist-packages (from scikit-learn>=0.21.3->tsfel) (1.4.2)\n",
            "Requirement already satisfied: threadpoolctl>=3.1.0 in /usr/local/lib/python3.11/dist-packages (from scikit-learn>=0.21.3->tsfel) (3.5.0)\n",
            "Requirement already satisfied: patsy>=0.5.6 in /usr/local/lib/python3.11/dist-packages (from statsmodels>=0.12.0->tsfel) (1.0.1)\n",
            "Requirement already satisfied: packaging>=21.3 in /usr/local/lib/python3.11/dist-packages (from statsmodels>=0.12.0->tsfel) (24.2)\n",
            "Requirement already satisfied: parso<0.9.0,>=0.8.4 in /usr/local/lib/python3.11/dist-packages (from jedi>=0.16->ipython>=7.4.0->tsfel) (0.8.4)\n",
            "Requirement already satisfied: ptyprocess>=0.5 in /usr/local/lib/python3.11/dist-packages (from pexpect>4.3->ipython>=7.4.0->tsfel) (0.7.0)\n",
            "Requirement already satisfied: wcwidth in /usr/local/lib/python3.11/dist-packages (from prompt-toolkit!=3.0.0,!=3.0.1,<3.1.0,>=2.0.0->ipython>=7.4.0->tsfel) (0.2.13)\n",
            "Requirement already satisfied: six>=1.5 in /usr/local/lib/python3.11/dist-packages (from python-dateutil>=2.8.2->pandas>=1.5.3->tsfel) (1.17.0)\n",
            "Downloading tsfel-0.1.9-py3-none-any.whl (62 kB)\n",
            "\u001b[2K   \u001b[90m━━━━━━━━━━━━━━━━━━━━━━━━━━━━━━━━━━━━━━━━\u001b[0m \u001b[32m63.0/63.0 kB\u001b[0m \u001b[31m2.8 MB/s\u001b[0m eta \u001b[36m0:00:00\u001b[0m\n",
            "\u001b[?25hDownloading pywavelets-1.8.0-cp311-cp311-manylinux_2_17_x86_64.manylinux2014_x86_64.whl (4.5 MB)\n",
            "\u001b[2K   \u001b[90m━━━━━━━━━━━━━━━━━━━━━━━━━━━━━━━━━━━━━━━━\u001b[0m \u001b[32m4.5/4.5 MB\u001b[0m \u001b[31m40.3 MB/s\u001b[0m eta \u001b[36m0:00:00\u001b[0m\n",
            "\u001b[?25hDownloading jedi-0.19.2-py2.py3-none-any.whl (1.6 MB)\n",
            "\u001b[2K   \u001b[90m━━━━━━━━━━━━━━━━━━━━━━━━━━━━━━━━━━━━━━━━\u001b[0m \u001b[32m1.6/1.6 MB\u001b[0m \u001b[31m41.9 MB/s\u001b[0m eta \u001b[36m0:00:00\u001b[0m\n",
            "\u001b[?25hInstalling collected packages: PyWavelets, jedi, tsfel\n",
            "Successfully installed PyWavelets-1.8.0 jedi-0.19.2 tsfel-0.1.9\n"
          ]
        }
      ],
      "source": [
        "!pip install tsfel\n",
        "import numpy as np\n",
        "import pandas as pd\n",
        "import os\n",
        "import tsfel\n",
        "import matplotlib.pyplot as plt\n",
        "from sklearn.model_selection import train_test_split\n",
        "from sklearn.ensemble import RandomForestClassifier\n",
        "from sklearn.svm import SVC\n",
        "from sklearn.linear_model import LogisticRegression\n",
        "from sklearn.metrics import accuracy_score, classification_report\n",
        "import tensorflow as tf\n",
        "from tensorflow.keras.models import Sequential\n",
        "from tensorflow.keras.layers import LSTM, Conv1D, Dense, Flatten, Dropout, MaxPooling1D\n",
        "\n",
        "# installing tsfel library and importing the necessary packages and modules\n"
      ]
    },
    {
      "cell_type": "code",
      "source": [
        "!wget -O dataset.zip \"https://archive.ics.uci.edu/static/public/240/human+activity+recognition+using+smartphones.zip\"\n",
        "!unzip \"dataset.zip\" -d \"/content/\"\n",
        "!unzip \"UCI HAR Dataset.zip\" -d \"/content/UCI HAR\""
      ],
      "metadata": {
        "colab": {
          "base_uri": "https://localhost:8080/"
        },
        "id": "sWbjgSwSKIiM",
        "outputId": "7724fd8f-b6fa-409e-f868-ce8b41ba7590"
      },
      "execution_count": 1,
      "outputs": [
        {
          "output_type": "stream",
          "name": "stdout",
          "text": [
            "--2025-03-01 08:23:47--  https://archive.ics.uci.edu/static/public/240/human+activity+recognition+using+smartphones.zip\n",
            "Resolving archive.ics.uci.edu (archive.ics.uci.edu)... 128.195.10.252\n",
            "Connecting to archive.ics.uci.edu (archive.ics.uci.edu)|128.195.10.252|:443... connected.\n",
            "HTTP request sent, awaiting response... 200 OK\n",
            "Length: unspecified\n",
            "Saving to: ‘dataset.zip’\n",
            "\n",
            "dataset.zip             [       <=>          ]  58.18M  40.6MB/s    in 1.4s    \n",
            "\n",
            "2025-03-01 08:23:49 (40.6 MB/s) - ‘dataset.zip’ saved [61005872]\n",
            "\n",
            "Archive:  dataset.zip\n",
            " extracting: /content/UCI HAR Dataset.names  \n",
            " extracting: /content/UCI HAR Dataset.zip  \n",
            "Archive:  UCI HAR Dataset.zip\n",
            "   creating: /content/UCI HAR/UCI HAR Dataset/\n",
            "  inflating: /content/UCI HAR/UCI HAR Dataset/.DS_Store  \n",
            "   creating: /content/UCI HAR/__MACOSX/\n",
            "   creating: /content/UCI HAR/__MACOSX/UCI HAR Dataset/\n",
            "  inflating: /content/UCI HAR/__MACOSX/UCI HAR Dataset/._.DS_Store  \n",
            "  inflating: /content/UCI HAR/UCI HAR Dataset/activity_labels.txt  \n",
            "  inflating: /content/UCI HAR/__MACOSX/UCI HAR Dataset/._activity_labels.txt  \n",
            "  inflating: /content/UCI HAR/UCI HAR Dataset/features.txt  \n",
            "  inflating: /content/UCI HAR/__MACOSX/UCI HAR Dataset/._features.txt  \n",
            "  inflating: /content/UCI HAR/UCI HAR Dataset/features_info.txt  \n",
            "  inflating: /content/UCI HAR/__MACOSX/UCI HAR Dataset/._features_info.txt  \n",
            "  inflating: /content/UCI HAR/UCI HAR Dataset/README.txt  \n",
            "  inflating: /content/UCI HAR/__MACOSX/UCI HAR Dataset/._README.txt  \n",
            "   creating: /content/UCI HAR/UCI HAR Dataset/test/\n",
            "   creating: /content/UCI HAR/UCI HAR Dataset/test/Inertial Signals/\n",
            "  inflating: /content/UCI HAR/UCI HAR Dataset/test/Inertial Signals/body_acc_x_test.txt  \n",
            "   creating: /content/UCI HAR/__MACOSX/UCI HAR Dataset/test/\n",
            "   creating: /content/UCI HAR/__MACOSX/UCI HAR Dataset/test/Inertial Signals/\n",
            "  inflating: /content/UCI HAR/__MACOSX/UCI HAR Dataset/test/Inertial Signals/._body_acc_x_test.txt  \n",
            "  inflating: /content/UCI HAR/UCI HAR Dataset/test/Inertial Signals/body_acc_y_test.txt  \n",
            "  inflating: /content/UCI HAR/__MACOSX/UCI HAR Dataset/test/Inertial Signals/._body_acc_y_test.txt  \n",
            "  inflating: /content/UCI HAR/UCI HAR Dataset/test/Inertial Signals/body_acc_z_test.txt  \n",
            "  inflating: /content/UCI HAR/__MACOSX/UCI HAR Dataset/test/Inertial Signals/._body_acc_z_test.txt  \n",
            "  inflating: /content/UCI HAR/UCI HAR Dataset/test/Inertial Signals/body_gyro_x_test.txt  \n",
            "  inflating: /content/UCI HAR/__MACOSX/UCI HAR Dataset/test/Inertial Signals/._body_gyro_x_test.txt  \n",
            "  inflating: /content/UCI HAR/UCI HAR Dataset/test/Inertial Signals/body_gyro_y_test.txt  \n",
            "  inflating: /content/UCI HAR/__MACOSX/UCI HAR Dataset/test/Inertial Signals/._body_gyro_y_test.txt  \n",
            "  inflating: /content/UCI HAR/UCI HAR Dataset/test/Inertial Signals/body_gyro_z_test.txt  \n",
            "  inflating: /content/UCI HAR/__MACOSX/UCI HAR Dataset/test/Inertial Signals/._body_gyro_z_test.txt  \n",
            "  inflating: /content/UCI HAR/UCI HAR Dataset/test/Inertial Signals/total_acc_x_test.txt  \n",
            "  inflating: /content/UCI HAR/__MACOSX/UCI HAR Dataset/test/Inertial Signals/._total_acc_x_test.txt  \n",
            "  inflating: /content/UCI HAR/UCI HAR Dataset/test/Inertial Signals/total_acc_y_test.txt  \n",
            "  inflating: /content/UCI HAR/__MACOSX/UCI HAR Dataset/test/Inertial Signals/._total_acc_y_test.txt  \n",
            "  inflating: /content/UCI HAR/UCI HAR Dataset/test/Inertial Signals/total_acc_z_test.txt  \n",
            "  inflating: /content/UCI HAR/__MACOSX/UCI HAR Dataset/test/Inertial Signals/._total_acc_z_test.txt  \n",
            "  inflating: /content/UCI HAR/__MACOSX/UCI HAR Dataset/test/._Inertial Signals  \n",
            "  inflating: /content/UCI HAR/UCI HAR Dataset/test/subject_test.txt  \n",
            "  inflating: /content/UCI HAR/__MACOSX/UCI HAR Dataset/test/._subject_test.txt  \n",
            "  inflating: /content/UCI HAR/UCI HAR Dataset/test/X_test.txt  \n",
            "  inflating: /content/UCI HAR/__MACOSX/UCI HAR Dataset/test/._X_test.txt  \n",
            "  inflating: /content/UCI HAR/UCI HAR Dataset/test/y_test.txt  \n",
            "  inflating: /content/UCI HAR/__MACOSX/UCI HAR Dataset/test/._y_test.txt  \n",
            "  inflating: /content/UCI HAR/__MACOSX/UCI HAR Dataset/._test  \n",
            "   creating: /content/UCI HAR/UCI HAR Dataset/train/\n",
            "   creating: /content/UCI HAR/UCI HAR Dataset/train/Inertial Signals/\n",
            "  inflating: /content/UCI HAR/UCI HAR Dataset/train/Inertial Signals/body_acc_x_train.txt  \n",
            "   creating: /content/UCI HAR/__MACOSX/UCI HAR Dataset/train/\n",
            "   creating: /content/UCI HAR/__MACOSX/UCI HAR Dataset/train/Inertial Signals/\n",
            "  inflating: /content/UCI HAR/__MACOSX/UCI HAR Dataset/train/Inertial Signals/._body_acc_x_train.txt  \n",
            "  inflating: /content/UCI HAR/UCI HAR Dataset/train/Inertial Signals/body_acc_y_train.txt  \n",
            "  inflating: /content/UCI HAR/__MACOSX/UCI HAR Dataset/train/Inertial Signals/._body_acc_y_train.txt  \n",
            "  inflating: /content/UCI HAR/UCI HAR Dataset/train/Inertial Signals/body_acc_z_train.txt  \n",
            "  inflating: /content/UCI HAR/__MACOSX/UCI HAR Dataset/train/Inertial Signals/._body_acc_z_train.txt  \n",
            "  inflating: /content/UCI HAR/UCI HAR Dataset/train/Inertial Signals/body_gyro_x_train.txt  \n",
            "  inflating: /content/UCI HAR/__MACOSX/UCI HAR Dataset/train/Inertial Signals/._body_gyro_x_train.txt  \n",
            "  inflating: /content/UCI HAR/UCI HAR Dataset/train/Inertial Signals/body_gyro_y_train.txt  \n",
            "  inflating: /content/UCI HAR/__MACOSX/UCI HAR Dataset/train/Inertial Signals/._body_gyro_y_train.txt  \n",
            "  inflating: /content/UCI HAR/UCI HAR Dataset/train/Inertial Signals/body_gyro_z_train.txt  \n",
            "  inflating: /content/UCI HAR/__MACOSX/UCI HAR Dataset/train/Inertial Signals/._body_gyro_z_train.txt  \n",
            "  inflating: /content/UCI HAR/UCI HAR Dataset/train/Inertial Signals/total_acc_x_train.txt  \n",
            "  inflating: /content/UCI HAR/__MACOSX/UCI HAR Dataset/train/Inertial Signals/._total_acc_x_train.txt  \n",
            "  inflating: /content/UCI HAR/UCI HAR Dataset/train/Inertial Signals/total_acc_y_train.txt  \n",
            "  inflating: /content/UCI HAR/__MACOSX/UCI HAR Dataset/train/Inertial Signals/._total_acc_y_train.txt  \n",
            "  inflating: /content/UCI HAR/UCI HAR Dataset/train/Inertial Signals/total_acc_z_train.txt  \n",
            "  inflating: /content/UCI HAR/__MACOSX/UCI HAR Dataset/train/Inertial Signals/._total_acc_z_train.txt  \n",
            "  inflating: /content/UCI HAR/__MACOSX/UCI HAR Dataset/train/._Inertial Signals  \n",
            "  inflating: /content/UCI HAR/UCI HAR Dataset/train/subject_train.txt  \n",
            "  inflating: /content/UCI HAR/__MACOSX/UCI HAR Dataset/train/._subject_train.txt  \n",
            "  inflating: /content/UCI HAR/UCI HAR Dataset/train/X_train.txt  \n",
            "  inflating: /content/UCI HAR/__MACOSX/UCI HAR Dataset/train/._X_train.txt  \n",
            "  inflating: /content/UCI HAR/UCI HAR Dataset/train/y_train.txt  \n",
            "  inflating: /content/UCI HAR/__MACOSX/UCI HAR Dataset/train/._y_train.txt  \n",
            "  inflating: /content/UCI HAR/__MACOSX/UCI HAR Dataset/._train  \n",
            "  inflating: /content/UCI HAR/__MACOSX/._UCI HAR Dataset  \n"
          ]
        }
      ]
    },
    {
      "cell_type": "code",
      "source": [
        "# Define paths\n",
        "train_path = \"UCI HAR/Dataset/train/Inertial Signals/\"\n",
        "test_path = \"UCI HAR/Dataset/test/Inertial Signals/\"\n",
        "\n",
        "x_train = np.dstack([\n",
        "    np.loadtxt(train_path + f\"body_acc_x_train.txt\"),\n",
        "    np.loadtxt(train_path + f\"body_acc_y_train.txt\"),\n",
        "    np.loadtxt(train_path + f\"body_acc_z_train.txt\"),\n",
        "    np.loadtxt(train_path + f\"body_gyro_x_train.txt\"),\n",
        "    np.loadtxt(train_path + f\"body_gyro_y_train.txt\"),\n",
        "    np.loadtxt(train_path + f\"body_gyro_z_train.txt\"),\n",
        "    np.loadtxt(train_path + f\"total_acc_x_train.txt\"),\n",
        "    np.loadtxt(train_path + f\"total_acc_y_train.txt\"),\n",
        "    np.loadtxt(train_path + f\"total_acc_z_train.txt\"),\n",
        "])\n",
        "\n",
        "# Load testing data (Body Acceleration, Gyroscope, and Total Acceleration)\n",
        "x_test = np.dstack([\n",
        "    np.loadtxt(test_path + f\"body_acc_x_test.txt\"),\n",
        "    np.loadtxt(test_path + f\"body_acc_y_test.txt\"),\n",
        "    np.loadtxt(test_path + f\"body_acc_z_test.txt\"),\n",
        "    np.loadtxt(test_path + f\"body_gyro_x_test.txt\"),\n",
        "    np.loadtxt(test_path + f\"body_gyro_y_test.txt\"),\n",
        "    np.loadtxt(test_path + f\"body_gyro_z_test.txt\"),\n",
        "    np.loadtxt(test_path + f\"total_acc_x_test.txt\"),\n",
        "    np.loadtxt(test_path + f\"total_acc_y_test.txt\"),\n",
        "    np.loadtxt(test_path + f\"total_acc_z_test.txt\"),\n",
        "])\n",
        "\n",
        "y_train = np.loadtxt(\"UCI HAR/Dataset/train/y_train.txt\")\n",
        "y_test = np.loadtxt(\"UCI HAR/Dataset/test/y_test.txt\")\n",
        "\n"
      ],
      "metadata": {
        "id": "u6ZMV0XyLH3p"
      },
      "execution_count": 3,
      "outputs": []
    },
    {
      "cell_type": "code",
      "source": [
        "print(\"Train Data Shape:\", x_train.shape)\n",
        "print(\"Test Data Shape:\", x_test.shape)\n",
        "print(\"Train Labels Shape:\", y_train.shape)\n",
        "print(\"Test Labels Shape:\", y_test.shape)"
      ],
      "metadata": {
        "colab": {
          "base_uri": "https://localhost:8080/"
        },
        "id": "8S08N6T4Wtp8",
        "outputId": "bceba7c1-6654-4815-83c9-57902c2405b8"
      },
      "execution_count": 4,
      "outputs": [
        {
          "output_type": "stream",
          "name": "stdout",
          "text": [
            "Train Data Shape: (7352, 128, 9)\n",
            "Test Data Shape: (2947, 128, 9)\n",
            "Train Labels Shape: (7352,)\n",
            "Test Labels Shape: (2947,)\n"
          ]
        }
      ]
    },
    {
      "cell_type": "code",
      "source": [
        "from tensorflow.keras.utils import to_categorical\n",
        "\n",
        "y_train_categorical = to_categorical(y_train - 1)  # Subtract 1 to make labels zero-indexed\n",
        "y_test_categorical = to_categorical(y_test - 1)\n",
        "\n",
        "print(y_train_categorical.shape, y_test_categorical.shape)  # Should be (7352, 6) and (2947, 6)\n"
      ],
      "metadata": {
        "colab": {
          "base_uri": "https://localhost:8080/"
        },
        "id": "gWl_pJb_Y1kT",
        "outputId": "4a0c3c2e-6cde-4d9e-efc7-dbd87a5c25e7"
      },
      "execution_count": 5,
      "outputs": [
        {
          "output_type": "stream",
          "name": "stdout",
          "text": [
            "(7352, 6) (2947, 6)\n"
          ]
        }
      ]
    },
    {
      "cell_type": "code",
      "source": [
        "x_train_flat = x_train.reshape(x_train.shape[0], -1)\n",
        "x_test_flat = x_test.reshape(x_test.shape[0], -1)\n",
        "\n",
        "print(x_train_flat.shape, x_test_flat.shape)  # Should be (7352, 1152) and (2947, 1152)\n"
      ],
      "metadata": {
        "colab": {
          "base_uri": "https://localhost:8080/"
        },
        "id": "tzMp48f8_HWW",
        "outputId": "1c213a77-9e32-4007-ff78-8d4663040033"
      },
      "execution_count": 6,
      "outputs": [
        {
          "output_type": "stream",
          "name": "stdout",
          "text": [
            "(7352, 1152) (2947, 1152)\n"
          ]
        }
      ]
    },
    {
      "cell_type": "code",
      "source": [
        "from sklearn.preprocessing import StandardScaler\n",
        "\n",
        "# Check data statistics before scaling\n",
        "print(\"Before Scaling:\")\n",
        "print(\"Mean:\", x_train_flat.mean(), \"Std:\", x_train_flat.std())\n",
        "\n",
        "# Apply Standard Scaling\n",
        "scaler = StandardScaler()\n",
        "x_train_scaled = scaler.fit_transform(x_train_flat)\n",
        "x_test_scaled = scaler.transform(x_test_flat)\n",
        "\n",
        "# Check data statistics after scaling\n",
        "print(\"\\nAfter Scaling:\")\n",
        "print(\"Mean:\", x_train_scaled.mean(), \"Std:\", x_train_scaled.std())\n",
        "\n"
      ],
      "metadata": {
        "colab": {
          "base_uri": "https://localhost:8080/"
        },
        "id": "5D2MFeopw9x4",
        "outputId": "f2fa6495-978c-411e-c89c-f0832f8d2ccf"
      },
      "execution_count": 7,
      "outputs": [
        {
          "output_type": "stream",
          "name": "stdout",
          "text": [
            "Before Scaling:\n",
            "Mean: 0.10206605723804434 Std: 0.4021651763827932\n",
            "\n",
            "After Scaling:\n",
            "Mean: -3.362481775705498e-17 Std: 0.9999999999999998\n"
          ]
        }
      ]
    },
    {
      "cell_type": "code",
      "source": [
        "# Import Logistic Regression\n",
        "from sklearn.linear_model import LogisticRegression\n",
        "\n",
        "# Initialize the model\n",
        "log_reg = LogisticRegression(max_iter=1000, random_state=42)\n",
        "\n",
        "# Train the model\n",
        "log_reg.fit(x_train_scaled, y_train)\n",
        "\n",
        "# Make predictions\n",
        "y_pred = log_reg.predict(x_test_scaled)\n",
        "\n",
        "# Evaluate the model\n",
        "from sklearn.metrics import accuracy_score, classification_report\n",
        "\n",
        "accuracy = accuracy_score(y_test, y_pred)\n",
        "print(f\"Accuracy: {accuracy:.4f}\")\n",
        "\n",
        "\n"
      ],
      "metadata": {
        "colab": {
          "base_uri": "https://localhost:8080/"
        },
        "id": "vLYMOSR-ArK0",
        "outputId": "b0cc81cf-00db-454d-83ca-8014950921a3"
      },
      "execution_count": 11,
      "outputs": [
        {
          "output_type": "stream",
          "name": "stdout",
          "text": [
            "Accuracy: 0.5786\n"
          ]
        }
      ]
    },
    {
      "cell_type": "code",
      "source": [],
      "metadata": {
        "id": "uoKks2wwL2YC"
      },
      "execution_count": null,
      "outputs": []
    }
  ]
}